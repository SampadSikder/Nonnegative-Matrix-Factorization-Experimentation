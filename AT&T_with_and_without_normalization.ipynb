{
  "cells": [
    {
      "cell_type": "markdown",
      "metadata": {
        "id": "view-in-github",
        "colab_type": "text"
      },
      "source": [
        "<a href=\"https://colab.research.google.com/github/SampadSikder/Nonnegative-Matrix-Factorization-Experimentation/blob/main/AT%26T_with_and_without_normalization.ipynb\" target=\"_parent\"><img src=\"https://colab.research.google.com/assets/colab-badge.svg\" alt=\"Open In Colab\"/></a>"
      ]
    },
    {
      "cell_type": "markdown",
      "metadata": {
        "id": "qq6pAYZbyoYk"
      },
      "source": [
        "Equations from https://proceedings.neurips.cc/paper/2000/file/f9d1152547c0bde01830b7e8bd60024c-Paper.pdf\n",
        "Edges after nmf in basis matrix: http://www.cs.cmu.edu/~./changbo/publications/IJPRAI05.pdf"
      ]
    },
    {
      "cell_type": "code",
      "execution_count": 30,
      "metadata": {
        "id": "RCWJMbmIhuQO"
      },
      "outputs": [],
      "source": [
        "import cv2\n",
        "import numpy as np\n",
        "from google.colab.patches import cv2_imshow\n",
        "from sklearn.cluster import KMeans\n",
        "import numpy\n",
        "import matplotlib.pyplot as mtp"
      ]
    },
    {
      "cell_type": "code",
      "execution_count": 31,
      "metadata": {
        "colab": {
          "base_uri": "https://localhost:8080/",
          "height": 328
        },
        "id": "x_dM5adYiW9Z",
        "outputId": "810fa8e0-f95c-450b-cb8b-21cbe34d4867"
      },
      "outputs": [
        {
          "output_type": "error",
          "ename": "KeyboardInterrupt",
          "evalue": "ignored",
          "traceback": [
            "\u001b[0;31m---------------------------------------------------------------------------\u001b[0m",
            "\u001b[0;31mKeyboardInterrupt\u001b[0m                         Traceback (most recent call last)",
            "\u001b[0;32m<ipython-input-31-c08de23972c6>\u001b[0m in \u001b[0;36m<module>\u001b[0;34m\u001b[0m\n\u001b[1;32m      1\u001b[0m \u001b[0;32mfrom\u001b[0m \u001b[0mgoogle\u001b[0m\u001b[0;34m.\u001b[0m\u001b[0mcolab\u001b[0m \u001b[0;32mimport\u001b[0m \u001b[0mdrive\u001b[0m\u001b[0;34m\u001b[0m\u001b[0;34m\u001b[0m\u001b[0m\n\u001b[0;32m----> 2\u001b[0;31m \u001b[0mdrive\u001b[0m\u001b[0;34m.\u001b[0m\u001b[0mmount\u001b[0m\u001b[0;34m(\u001b[0m\u001b[0;34m'/content/Drive'\u001b[0m\u001b[0;34m)\u001b[0m\u001b[0;34m\u001b[0m\u001b[0;34m\u001b[0m\u001b[0m\n\u001b[0m",
            "\u001b[0;32m/usr/local/lib/python3.9/dist-packages/google/colab/drive.py\u001b[0m in \u001b[0;36mmount\u001b[0;34m(mountpoint, force_remount, timeout_ms, readonly)\u001b[0m\n\u001b[1;32m    101\u001b[0m \u001b[0;32mdef\u001b[0m \u001b[0mmount\u001b[0m\u001b[0;34m(\u001b[0m\u001b[0mmountpoint\u001b[0m\u001b[0;34m,\u001b[0m \u001b[0mforce_remount\u001b[0m\u001b[0;34m=\u001b[0m\u001b[0;32mFalse\u001b[0m\u001b[0;34m,\u001b[0m \u001b[0mtimeout_ms\u001b[0m\u001b[0;34m=\u001b[0m\u001b[0;36m120000\u001b[0m\u001b[0;34m,\u001b[0m \u001b[0mreadonly\u001b[0m\u001b[0;34m=\u001b[0m\u001b[0;32mFalse\u001b[0m\u001b[0;34m)\u001b[0m\u001b[0;34m:\u001b[0m\u001b[0;34m\u001b[0m\u001b[0;34m\u001b[0m\u001b[0m\n\u001b[1;32m    102\u001b[0m   \u001b[0;34m\"\"\"Mount your Google Drive at the specified mountpoint path.\"\"\"\u001b[0m\u001b[0;34m\u001b[0m\u001b[0;34m\u001b[0m\u001b[0m\n\u001b[0;32m--> 103\u001b[0;31m   return _mount(\n\u001b[0m\u001b[1;32m    104\u001b[0m       \u001b[0mmountpoint\u001b[0m\u001b[0;34m,\u001b[0m\u001b[0;34m\u001b[0m\u001b[0;34m\u001b[0m\u001b[0m\n\u001b[1;32m    105\u001b[0m       \u001b[0mforce_remount\u001b[0m\u001b[0;34m=\u001b[0m\u001b[0mforce_remount\u001b[0m\u001b[0;34m,\u001b[0m\u001b[0;34m\u001b[0m\u001b[0;34m\u001b[0m\u001b[0m\n",
            "\u001b[0;32m/usr/local/lib/python3.9/dist-packages/google/colab/drive.py\u001b[0m in \u001b[0;36m_mount\u001b[0;34m(mountpoint, force_remount, timeout_ms, ephemeral, readonly)\u001b[0m\n\u001b[1;32m    130\u001b[0m   )\n\u001b[1;32m    131\u001b[0m   \u001b[0;32mif\u001b[0m \u001b[0mephemeral\u001b[0m\u001b[0;34m:\u001b[0m\u001b[0;34m\u001b[0m\u001b[0;34m\u001b[0m\u001b[0m\n\u001b[0;32m--> 132\u001b[0;31m     _message.blocking_request(\n\u001b[0m\u001b[1;32m    133\u001b[0m         \u001b[0;34m'request_auth'\u001b[0m\u001b[0;34m,\u001b[0m \u001b[0mrequest\u001b[0m\u001b[0;34m=\u001b[0m\u001b[0;34m{\u001b[0m\u001b[0;34m'authType'\u001b[0m\u001b[0;34m:\u001b[0m \u001b[0;34m'dfs_ephemeral'\u001b[0m\u001b[0;34m}\u001b[0m\u001b[0;34m,\u001b[0m \u001b[0mtimeout_sec\u001b[0m\u001b[0;34m=\u001b[0m\u001b[0;32mNone\u001b[0m\u001b[0;34m\u001b[0m\u001b[0;34m\u001b[0m\u001b[0m\n\u001b[1;32m    134\u001b[0m     )\n",
            "\u001b[0;32m/usr/local/lib/python3.9/dist-packages/google/colab/_message.py\u001b[0m in \u001b[0;36mblocking_request\u001b[0;34m(request_type, request, timeout_sec, parent)\u001b[0m\n\u001b[1;32m    175\u001b[0m       \u001b[0mrequest_type\u001b[0m\u001b[0;34m,\u001b[0m \u001b[0mrequest\u001b[0m\u001b[0;34m,\u001b[0m \u001b[0mparent\u001b[0m\u001b[0;34m=\u001b[0m\u001b[0mparent\u001b[0m\u001b[0;34m,\u001b[0m \u001b[0mexpect_reply\u001b[0m\u001b[0;34m=\u001b[0m\u001b[0;32mTrue\u001b[0m\u001b[0;34m\u001b[0m\u001b[0;34m\u001b[0m\u001b[0m\n\u001b[1;32m    176\u001b[0m   )\n\u001b[0;32m--> 177\u001b[0;31m   \u001b[0;32mreturn\u001b[0m \u001b[0mread_reply_from_input\u001b[0m\u001b[0;34m(\u001b[0m\u001b[0mrequest_id\u001b[0m\u001b[0;34m,\u001b[0m \u001b[0mtimeout_sec\u001b[0m\u001b[0;34m)\u001b[0m\u001b[0;34m\u001b[0m\u001b[0;34m\u001b[0m\u001b[0m\n\u001b[0m",
            "\u001b[0;32m/usr/local/lib/python3.9/dist-packages/google/colab/_message.py\u001b[0m in \u001b[0;36mread_reply_from_input\u001b[0;34m(message_id, timeout_sec)\u001b[0m\n\u001b[1;32m     95\u001b[0m     \u001b[0mreply\u001b[0m \u001b[0;34m=\u001b[0m \u001b[0m_read_next_input_message\u001b[0m\u001b[0;34m(\u001b[0m\u001b[0;34m)\u001b[0m\u001b[0;34m\u001b[0m\u001b[0;34m\u001b[0m\u001b[0m\n\u001b[1;32m     96\u001b[0m     \u001b[0;32mif\u001b[0m \u001b[0mreply\u001b[0m \u001b[0;34m==\u001b[0m \u001b[0m_NOT_READY\u001b[0m \u001b[0;32mor\u001b[0m \u001b[0;32mnot\u001b[0m \u001b[0misinstance\u001b[0m\u001b[0;34m(\u001b[0m\u001b[0mreply\u001b[0m\u001b[0;34m,\u001b[0m \u001b[0mdict\u001b[0m\u001b[0;34m)\u001b[0m\u001b[0;34m:\u001b[0m\u001b[0;34m\u001b[0m\u001b[0;34m\u001b[0m\u001b[0m\n\u001b[0;32m---> 97\u001b[0;31m       \u001b[0mtime\u001b[0m\u001b[0;34m.\u001b[0m\u001b[0msleep\u001b[0m\u001b[0;34m(\u001b[0m\u001b[0;36m0.025\u001b[0m\u001b[0;34m)\u001b[0m\u001b[0;34m\u001b[0m\u001b[0;34m\u001b[0m\u001b[0m\n\u001b[0m\u001b[1;32m     98\u001b[0m       \u001b[0;32mcontinue\u001b[0m\u001b[0;34m\u001b[0m\u001b[0;34m\u001b[0m\u001b[0m\n\u001b[1;32m     99\u001b[0m     if (\n",
            "\u001b[0;31mKeyboardInterrupt\u001b[0m: "
          ]
        }
      ],
      "source": [
        "from google.colab import drive\n",
        "drive.mount('/content/Drive')"
      ]
    },
    {
      "cell_type": "markdown",
      "metadata": {
        "id": "7NW3z4T3mtZb"
      },
      "source": [
        "# Code Library"
      ]
    },
    {
      "cell_type": "code",
      "execution_count": 32,
      "metadata": {
        "id": "LfSd4MCkfyfR"
      },
      "outputs": [],
      "source": [
        "import time\n",
        "\n",
        "def extractFrameFromImage(filePath, imageLimit, frame_rate):\n",
        "  vidcap = cv2.VideoCapture(filePath)\n",
        "  success,image = vidcap.read()\n",
        "  count = 0\n",
        "  #define framerate\n",
        "  frame_rate = 10\n",
        "  prev = 0\n",
        "  frame=0\n",
        "  while success:\n",
        "    time_elapsed = time.time() - prev\n",
        "    success,image = vidcap.read()  \n",
        "    if time_elapsed > 1./frame_rate:\n",
        "      prev = time.time()\n",
        "      cv2.imwrite(\"%d.jpg\" % count, image)     # save frame as JPEG file      \n",
        "      #print('Read a new frame: ', success)\n",
        "      count=count+1\n",
        "      frame += frame_rate # i.e. at 30 fps, this advances one second\n",
        "      vidcap.set(cv2.CAP_PROP_POS_FRAMES, frame)\n",
        "    if count>=imageLimit:\n",
        "      break\n",
        "  vidcap.release()\n",
        "  cv2.destroyAllWindows()\n",
        "\n",
        "  "
      ]
    },
    {
      "cell_type": "code",
      "execution_count": 33,
      "metadata": {
        "id": "oIsoRNHOAYYm"
      },
      "outputs": [],
      "source": [
        "def checkCrop():\n",
        "  img=cv2.imread('/content/9.jpg')\n",
        "  img=img[350:600,400:600]\n",
        "  cv2_imshow(img)"
      ]
    },
    {
      "cell_type": "code",
      "execution_count": 34,
      "metadata": {
        "id": "-YsUqfmDoZo9"
      },
      "outputs": [],
      "source": [
        "import os\n",
        "def countWidthandHeight():\n",
        "  img=cv2.imread('/content/9.jpg')\n",
        "  \n",
        "  image = cv2.cvtColor(img, cv2.COLOR_BGR2GRAY)\n",
        "  #resize\n",
        "  \n",
        "  width = int(image.shape[1]/7)\n",
        "  \n",
        "  height = int(image.shape[0]/7)\n",
        "  \n",
        "  print(width, height)\n",
        "\n",
        "  \n",
        "\n",
        "\n",
        "  count=0\n",
        "\n",
        "  for image_name in os.listdir('/content'):\n",
        "    extension = os.path.splitext(image_name)[1][1:]\n",
        "    if extension=='jpg':\n",
        "      count=count+1\n",
        "\n",
        "  return width, height, count"
      ]
    },
    {
      "cell_type": "code",
      "execution_count": 44,
      "metadata": {
        "id": "RXRPkIEcyqja"
      },
      "outputs": [],
      "source": [
        "def singleImage(path):\n",
        "  img=cv2.imread(path)\n",
        "  \n",
        "  image = cv2.cvtColor(img, cv2.COLOR_BGR2GRAY)\n",
        "  #resize\n",
        "  \n",
        "  width = int(image.shape[1])\n",
        "  \n",
        "  height = int(image.shape[0])\n",
        "\n",
        "\n",
        "  dim = (width, height)\n",
        "  print(width, height)\n",
        "  #resizing image\n",
        "  resized = cv2.resize(image, dim, interpolation = cv2.INTER_AREA)\n",
        "\n",
        "  return image, width, height"
      ]
    },
    {
      "cell_type": "code",
      "source": [
        "def multiplyImage():\n",
        "  img=cv2.imread('/content/9.jpg')\n",
        "  image = cv2.cvtColor(img, cv2.COLOR_BGR2GRAY)\n",
        "  #resize\n",
        "  imageT=np.transpose(image)\n",
        "  result=np.matmul(image,imageT)\n",
        "\n",
        "  cv2_imshow(result)\n"
      ],
      "metadata": {
        "id": "OWLF5c7s7luG"
      },
      "execution_count": 36,
      "outputs": []
    },
    {
      "cell_type": "code",
      "execution_count": 37,
      "metadata": {
        "id": "kvWqlcaPhO-n"
      },
      "outputs": [],
      "source": [
        "\n",
        "\n",
        "def convertAllImageToMatrix(width, height, x): # x = number of images\n",
        "  \n",
        " \n",
        "\n",
        "  y = width*height \n",
        "\n",
        "  m = np.zeros(shape=(x, int(y)))\n",
        "  print(m.shape)\n",
        "  itr = 0\n",
        "  name_list = []\n",
        "  for image_name in os.listdir('/content'):\n",
        "    extension = os.path.splitext(image_name)[1][1:]\n",
        "    if extension=='jpg':\n",
        "      image_path='/content/'+image_name\n",
        "      image = cv2.imread(image_path)\n",
        "      #####flip image\n",
        "      #image=cv2.flip(image,0)\n",
        "      #crop image\n",
        "      #img=image[350:600,400:600]\n",
        "      #grayscale\t\n",
        "      image = cv2.cvtColor(image, cv2.COLOR_BGR2GRAY)\n",
        "      #resize\n",
        "      dim = (width, height)\n",
        "      print(width, height)\n",
        "      #resizing image\n",
        "      resized = cv2.resize(image, dim, interpolation = cv2.INTER_AREA)\n",
        "      #rows,cols = resized.shape # gives dimensions for RGB array\n",
        "      \n",
        "      rows,cols=resized.shape#normal shape\n",
        "      img_size = rows*cols\n",
        "      img_1D_vector = resized.reshape(img_size)\n",
        "      \n",
        "      #print(img_1D_vector)\n",
        "      #np.append(m, img_1D_vector,axis=0)\n",
        "      m[itr]=img_1D_vector\n",
        "      itr=itr+1\n",
        "      name_list.append(image_name)\n",
        "      print(itr)\n",
        "      \n",
        "  return m, name_list, itr"
      ]
    },
    {
      "cell_type": "code",
      "execution_count": 38,
      "metadata": {
        "id": "z5xmIFcgnKIo"
      },
      "outputs": [],
      "source": [
        "def normalizeM(m):\n",
        "  sum=0\n",
        "  row, col=m.shape\n",
        "  for i in range(0,row):\n",
        "    for j in range(0,col):\n",
        "      sum+=m[i][j]\n",
        "  mean=sum/row*col \n",
        "\n",
        "  m=m/mean\n",
        "\n",
        "  return m, mean"
      ]
    },
    {
      "cell_type": "code",
      "execution_count": 39,
      "metadata": {
        "id": "T4u6-otOtAtf"
      },
      "outputs": [],
      "source": [
        "def updateW(x,w,h):\n",
        "  #XVT\n",
        "  ht=np.transpose(h)\n",
        "  numerator=np.matmul(x,ht)\n",
        "  #UVVT\n",
        "  den1=np.matmul(w,h)\n",
        "  denominator=np.matmul(den1,ht)\n",
        "\n",
        "  #return\n",
        "  print('u')\n",
        "  secondPart=np.divide(numerator,denominator)\n",
        "  return np.multiply(w,secondPart)"
      ]
    },
    {
      "cell_type": "code",
      "execution_count": 40,
      "metadata": {
        "id": "QBCvtgSZs9LJ"
      },
      "outputs": [],
      "source": [
        "def updateH(x,w,h):\n",
        "  #UT*X\n",
        "  wt=np.transpose(w)\n",
        "  numerator=np.matmul(wt,x)\n",
        "  #UTUV\n",
        "  den1=np.matmul(w,h)\n",
        "  denominator=np.matmul(wt,den1)\n",
        "  \n",
        "  #update return\n",
        "  print('v')\n",
        "  secondPart=np.divide(numerator,denominator)\n",
        "  return np.multiply(h,secondPart)"
      ]
    },
    {
      "cell_type": "code",
      "execution_count": 41,
      "metadata": {
        "id": "j8SQbrOqolsh"
      },
      "outputs": [],
      "source": [
        "def performNMF(x, featureNo, imageCount, EPSILON=1e-9):\n",
        "  w=abs(np.random.normal(3,2.5,size=(imageCount,featureNo)))\n",
        "  h=abs(np.random.normal(3,2.5,size=(featureNo, x.shape[1])))\n",
        "\n",
        "  print(\"Shape of W: \"+str(w.shape))\n",
        "  print(\"Shape of H: \"+str(h.shape))\n",
        "\n",
        "  itr=0\n",
        "  cost=np.linalg.norm(x-np.matmul(w,h))\n",
        "  while cost>EPSILON:\n",
        "    if itr%2==0:\n",
        "      h=updateH(x,w,h)\n",
        "      #h*=6\n",
        "    else:\n",
        "      w=updateW(x,w,h)\n",
        "      #w/=4\n",
        "    wh=np.matmul(w,h)\n",
        "    print(w,h)\n",
        "    cost=np.linalg.norm(x-wh)\n",
        "    print(cost)\n",
        "    if itr>=100:\n",
        "      break\n",
        "    itr=itr+1\n",
        "  return w,h"
      ]
    },
    {
      "cell_type": "code",
      "execution_count": 57,
      "metadata": {
        "id": "_g7dy1dcJxxk"
      },
      "outputs": [],
      "source": [
        "def getImageListFromM(x_new):\n",
        "  #print(height,width)\n",
        "  images = []\n",
        "  for row in x_new:\n",
        "    img_data = []\n",
        "    for i in range(height):\n",
        "      img_row = []\n",
        "      for j in range(width):\n",
        "        img_row.append(row[i*width + j])\n",
        "      img_data.append(img_row)\n",
        "    images.append(img_data)\n",
        "  return images"
      ]
    },
    {
      "cell_type": "code",
      "source": [
        "def convertMatrixToImage(x,mean):\n",
        "  x_new=np.zeros((x.shape[0],x.shape[1]), dtype=int)\n",
        "  for i in range(x.shape[0]):\n",
        "    for j in range(x.shape[1]):\n",
        "      x_new[i][j]=x[i,j]*mean\n",
        "      x_new[i][j]=math.ceil(x_new[i][j])\n",
        "  print(x_new)\n",
        "  return x_new"
      ],
      "metadata": {
        "id": "de3GKLJHEHsy"
      },
      "execution_count": 64,
      "outputs": []
    },
    {
      "cell_type": "markdown",
      "metadata": {
        "id": "HWiW7Lz-kh3W"
      },
      "source": [
        "### Testing Code"
      ]
    },
    {
      "cell_type": "code",
      "execution_count": 56,
      "metadata": {
        "id": "0JD8EiFTK_7T"
      },
      "outputs": [],
      "source": [
        "from google.colab.patches import cv2_imshow\n"
      ]
    },
    {
      "cell_type": "code",
      "execution_count": 58,
      "metadata": {
        "id": "fU6gS7hykSIK"
      },
      "outputs": [],
      "source": [
        "def compareAndTest(m, w, h, mean):\n",
        "  x_new=np.matmul(w,h)\n",
        "  x_new=np.ceil(x_new*mean)\n",
        "  #x_new=np.transpose(x_new)\n",
        "\n",
        "  resulting_images = getImageListFromM(x_new)\n",
        "  original_images = getImageListFromM(np.ceil(m*mean))\n",
        "\n",
        "  for index in range(m.shape[0]):\n",
        "    print(\"-------------------------------Number of image: \"+str(index))\n",
        "\n",
        "    img=np.array(resulting_images[index])\n",
        "    cv2_imshow(img)\n",
        "    print(\"Image after NMF:\")\n",
        "\n",
        "    img=np.array(original_images[index])\n",
        "    cv2_imshow(img)\n",
        "    print(\"Image Before NMF:\")\n"
      ]
    },
    {
      "cell_type": "code",
      "execution_count": 59,
      "metadata": {
        "id": "-U4ASYQLobJL"
      },
      "outputs": [],
      "source": [
        "def variance(m): # m = matrix of all images\n",
        "  return np.var(m)"
      ]
    },
    {
      "cell_type": "code",
      "execution_count": 60,
      "metadata": {
        "id": "OMV6x2b9x4x5"
      },
      "outputs": [],
      "source": [
        "def __grouper(labels, original_images, resulting_images):\n",
        "    groups = []\n",
        "    for current_label in set(labels):\n",
        "      cluster = []\n",
        "      for index,label in enumerate(labels):\n",
        "        if label == current_label:\n",
        "          node = [label, original_images[index], resulting_images[index]]\n",
        "          cluster.append(node)\n",
        "      groups.append(cluster)\n",
        "    return groups"
      ]
    },
    {
      "cell_type": "code",
      "execution_count": 61,
      "metadata": {
        "id": "P-oI1SHjvKt0"
      },
      "outputs": [],
      "source": [
        "def compareAndTestWithKNN(m, w, h, mean, n_clusters):\n",
        "  x_new=np.matmul(w,h)\n",
        "  x_new=np.ceil(x_new*mean)\n",
        "  #x_new=np.transpose(x_new)\n",
        "\n",
        "  kmeans = KMeans(n_clusters, random_state=0)\n",
        "  kmeans.fit(w)\n",
        "\n",
        "  resulting_images = getImageListFromM(x_new)\n",
        "  original_images = getImageListFromM(np.ceil(m*mean))\n",
        "  \n",
        "  clusters = __grouper(kmeans.labels_, original_images, resulting_images)\n",
        "\n",
        "  for cluster in clusters:\n",
        "    print(\"----------------Labels------------------------\")\n",
        "    for index, node in enumerate(cluster):\n",
        "      print(\"-------------------------------Number of image: \"+str(index)+\"-----------Cluster=\"+str(node[0])+\".\")\n",
        "      img=np.array(node[1])\n",
        "      cv2_imshow(img)\n",
        "  \n",
        "  return kmeans"
      ]
    },
    {
      "cell_type": "code",
      "execution_count": 62,
      "metadata": {
        "id": "7vNMDxMg-5iu"
      },
      "outputs": [],
      "source": [
        "def scatterPlot(kmeans,F):\n",
        "  y_predict= kmeans.fit_predict(F)  \n",
        "  mtp.scatter(F[y_predict == 0, 0], F[y_predict == 0, 1], s = 10, c = 'blue', label = 'Cluster 1') #for first cluster  \n",
        "  mtp.scatter(F[y_predict == 1, 0], F[y_predict == 1, 1], s = 10, c = 'green', label = 'Cluster 2') #for second cluster  \n",
        "  mtp.scatter(F[y_predict== 2, 0], F[y_predict == 2, 1], s = 10, c = 'red', label = 'Cluster 3') #for third cluster  \n",
        "  mtp.scatter(F[y_predict == 3, 0], F[y_predict == 3, 1], s = 10, c = 'cyan', label = 'Cluster 4') #for fourth cluster  \n",
        "  mtp.scatter(kmeans.cluster_centers_[:, 0], kmeans.cluster_centers_[:, 1], s = 30, c = 'yellow', label = 'Centroid')   \n",
        "  mtp.title('Clusters')  \n",
        "\n",
        "  mtp.legend()  \n",
        "  mtp.show() "
      ]
    },
    {
      "cell_type": "markdown",
      "metadata": {
        "id": "HjGyvGNEmTAb"
      },
      "source": [
        "# Experimentation Area"
      ]
    },
    {
      "cell_type": "code",
      "execution_count": null,
      "metadata": {
        "id": "ACam1AU_erAH"
      },
      "outputs": [],
      "source": [
        "imageLimit = 100\n",
        "frame_rate=5\n",
        "extractFrameFromImage('/content/Drive/MyDrive/Colab Notebooks/Dataset/ClothStackDetection.mp4', imageLimit, frame_rate)"
      ]
    },
    {
      "cell_type": "code",
      "execution_count": null,
      "metadata": {
        "id": "owsxf8BCiv7c"
      },
      "outputs": [],
      "source": [
        "!ls"
      ]
    },
    {
      "cell_type": "code",
      "execution_count": null,
      "metadata": {
        "id": "gAOOEqn4ovR1"
      },
      "outputs": [],
      "source": [
        "width, height, imageCount=countWidthandHeight()"
      ]
    },
    {
      "cell_type": "code",
      "execution_count": null,
      "metadata": {
        "id": "BtRuskoTZ4Pr"
      },
      "outputs": [],
      "source": [
        "print(imageCount)"
      ]
    },
    {
      "cell_type": "code",
      "execution_count": null,
      "metadata": {
        "id": "x295QlNifrd2"
      },
      "outputs": [],
      "source": [
        "m, imageNameList, imageCount = convertAllImageToMatrix(width, height, imageCount)\n"
      ]
    },
    {
      "cell_type": "code",
      "source": [],
      "metadata": {
        "id": "80dzAu7Z7hhD"
      },
      "execution_count": null,
      "outputs": []
    },
    {
      "cell_type": "code",
      "execution_count": null,
      "metadata": {
        "id": "umRI67NiNr6-"
      },
      "outputs": [],
      "source": [
        "m.shape"
      ]
    },
    {
      "cell_type": "code",
      "source": [
        "m"
      ],
      "metadata": {
        "id": "TDWWbhg63VpF"
      },
      "execution_count": null,
      "outputs": []
    },
    {
      "cell_type": "code",
      "execution_count": null,
      "metadata": {
        "id": "QIm9F5D8ns6P"
      },
      "outputs": [],
      "source": [
        "m, mean = normalizeM(m)"
      ]
    },
    {
      "cell_type": "code",
      "execution_count": null,
      "metadata": {
        "id": "qrEWRoDKwFWI"
      },
      "outputs": [],
      "source": [
        "w,h=performNMF(m, 10, imageCount)\n",
        "\n",
        "# from sklearn.decomposition import NMF\n",
        "# nmf_model = NMF(10,max_iter=100)\n",
        "# w = nmf_model.fit_transform(m)\n",
        "# h=nmf_model.components_\n"
      ]
    },
    {
      "cell_type": "code",
      "execution_count": null,
      "metadata": {
        "id": "tl9VrpOJRL9c"
      },
      "outputs": [],
      "source": [
        "compareAndTest(m,w,h, mean)"
      ]
    },
    {
      "cell_type": "code",
      "execution_count": null,
      "metadata": {
        "id": "emeC1aJ8pv9F"
      },
      "outputs": [],
      "source": [
        "x_new=np.matmul(w,h)\n",
        "x_new=np.ceil(x_new*mean)\n",
        "x_new=np.transpose(x_new)\n",
        "\n",
        "print(\"Original Image Set Variance: \"+str(variance(np.ceil(np.transpose(m)*mean))))\n",
        "print(\"NMF Generated Image Set Variance: \"+str(variance(x_new)))"
      ]
    },
    {
      "cell_type": "code",
      "execution_count": null,
      "metadata": {
        "id": "Iv4LXTkZvRNN"
      },
      "outputs": [],
      "source": [
        "w.shape"
      ]
    },
    {
      "cell_type": "markdown",
      "metadata": {
        "id": "pbdkhbHmrgVa"
      },
      "source": [
        "# Clustering"
      ]
    },
    {
      "cell_type": "code",
      "execution_count": null,
      "metadata": {
        "id": "CiVCyibFw0ET"
      },
      "outputs": [],
      "source": [
        "kmeans=compareAndTestWithKNN(m,w,h, mean, 3)"
      ]
    },
    {
      "cell_type": "code",
      "execution_count": null,
      "metadata": {
        "id": "Fj9RmfazmsIZ"
      },
      "outputs": [],
      "source": [
        "scatterPlot(kmeans,w)"
      ]
    },
    {
      "cell_type": "code",
      "execution_count": null,
      "metadata": {
        "id": "pKuF2-12mMYI"
      },
      "outputs": [],
      "source": []
    },
    {
      "cell_type": "markdown",
      "source": [
        "#Visualization\n"
      ],
      "metadata": {
        "id": "2nqeg0FLWQUt"
      }
    },
    {
      "cell_type": "code",
      "source": [
        "m,width,height=singleImage('/content/8.jpg')\n",
        "print(width,height)\n",
        "\n",
        "#multiplyImage()"
      ],
      "metadata": {
        "id": "6QGEVyfqWRxl"
      },
      "execution_count": null,
      "outputs": []
    },
    {
      "cell_type": "code",
      "source": [
        "#m,mean=normalizeM(m)\n",
        "print(m)\n",
        "w,h=performNMF(m, 10, height)\n",
        "print(m)\n",
        "'''\n",
        "from sklearn.decomposition import NMF\n",
        "nmf_model = NMF(100,max_iter=100)\n",
        "w = nmf_model.fit_transform(m)\n",
        "h=nmf_model.components_\n",
        "'''"
      ],
      "metadata": {
        "id": "FWtAcgWMWWan"
      },
      "execution_count": null,
      "outputs": []
    },
    {
      "cell_type": "code",
      "source": [
        "import math\n",
        "m=m\n",
        "cv2_imshow(m)\n",
        "#cv2_imshow(convertMatrixToImage(np.matmul(w,h),mean))\n",
        "cv2_imshow(np.matmul(w,h))"
      ],
      "metadata": {
        "id": "nJaV_5ycWhjq"
      },
      "execution_count": null,
      "outputs": []
    },
    {
      "cell_type": "code",
      "source": [
        "#cv2_imshow(convertMatrixToImage(w,mean))\n",
        "cv2_imshow(np.ceil(w))\n",
        "print(np.ceil(w))"
      ],
      "metadata": {
        "id": "IipDhzGFXF77"
      },
      "execution_count": null,
      "outputs": []
    },
    {
      "cell_type": "code",
      "source": [
        "#cv2_imshow(convertMatrixToImage(h,mean))\n",
        "print(w.shape)\n",
        "col=np.transpose(w)\n",
        "temp=col[0].reshape(11,23)\n",
        "print(temp)\n",
        "cv2_imshow(temp)"
      ],
      "metadata": {
        "id": "Qi3f12TBYB3_"
      },
      "execution_count": null,
      "outputs": []
    },
    {
      "cell_type": "code",
      "source": [
        "cv2_imshow(np.matmul(w,h))"
      ],
      "metadata": {
        "id": "T6BS0dLQYE4j"
      },
      "execution_count": null,
      "outputs": []
    },
    {
      "cell_type": "code",
      "source": [],
      "metadata": {
        "id": "a6dxa_tnicWd"
      },
      "execution_count": null,
      "outputs": []
    },
    {
      "cell_type": "markdown",
      "source": [
        "#Temp"
      ],
      "metadata": {
        "id": "1H8BDf87YAJI"
      }
    },
    {
      "cell_type": "code",
      "source": [
        "!git clone https://github.com/alpha-13/Face-Recognition.git"
      ],
      "metadata": {
        "id": "o0Q9xer7YDUX"
      },
      "execution_count": null,
      "outputs": []
    },
    {
      "cell_type": "code",
      "source": [
        "cd /content/Face-Recognition/Datasets/att_faces/Training/s1"
      ],
      "metadata": {
        "id": "e73DD-cLYPnH"
      },
      "execution_count": null,
      "outputs": []
    },
    {
      "cell_type": "code",
      "source": [
        "pwd"
      ],
      "metadata": {
        "id": "8MjImipSY2L2"
      },
      "execution_count": null,
      "outputs": []
    },
    {
      "cell_type": "code",
      "source": [
        "!find -name \"*pgm\" | xargs -I {} convert {} {}.png"
      ],
      "metadata": {
        "id": "fY1Jpa_SYmDe"
      },
      "execution_count": null,
      "outputs": []
    },
    {
      "cell_type": "code",
      "source": [
        "ls"
      ],
      "metadata": {
        "id": "RDDnco0AZKCu"
      },
      "execution_count": null,
      "outputs": []
    },
    {
      "cell_type": "code",
      "source": [
        "m,width,height=singleImage('/content/Face-Recognition/Datasets/att_faces/Training/s1/9.pgm')"
      ],
      "metadata": {
        "colab": {
          "base_uri": "https://localhost:8080/"
        },
        "id": "vmJCww0SaLAm",
        "outputId": "4bf5bd17-16f4-4182-d3c3-01b0593a57ff"
      },
      "execution_count": 50,
      "outputs": [
        {
          "output_type": "stream",
          "name": "stdout",
          "text": [
            "92 112\n"
          ]
        }
      ]
    },
    {
      "cell_type": "code",
      "source": [
        "cv2_imshow(m)"
      ],
      "metadata": {
        "colab": {
          "base_uri": "https://localhost:8080/",
          "height": 129
        },
        "id": "Nt7fyfPKbCTe",
        "outputId": "aed75859-a50f-4a80-ac38-bb406ee63571"
      },
      "execution_count": 51,
      "outputs": [
        {
          "output_type": "display_data",
          "data": {
            "text/plain": [
              "<PIL.Image.Image image mode=L size=92x112 at 0x7FDB49DB58E0>"
            ],
            "image/png": "[encoded data removed]"
          },
          "metadata": {}
        }
      ]
    },
    {
      "cell_type": "code",
      "source": [
        "print(m)\n",
        "w,h=performNMF(m, 10, height)\n",
        "print(m)"
      ],
      "metadata": {
        "id": "MiDHMTqdbdyG"
      },
      "execution_count": null,
      "outputs": []
    },
    {
      "cell_type": "code",
      "source": [
        "import math\n",
        "m=m\n",
        "cv2_imshow(m)\n",
        "#cv2_imshow(convertMatrixToImage(np.matmul(w,h),mean))\n",
        "cv2_imshow(np.matmul(w,h))"
      ],
      "metadata": {
        "colab": {
          "base_uri": "https://localhost:8080/",
          "height": 241
        },
        "id": "g5PpPZi0cK7W",
        "outputId": "2eeb7a02-9e13-4761-8818-57de0d8635a3"
      },
      "execution_count": 53,
      "outputs": [
        {
          "output_type": "display_data",
          "data": {
            "text/plain": [
              "<PIL.Image.Image image mode=L size=92x112 at 0x7FDB49DB5A90>"
            ],
            "image/png": "[encoded data removed]"
          },
          "metadata": {}
        },
        {
          "output_type": "display_data",
          "data": {
            "text/plain": [
              "<PIL.Image.Image image mode=L size=92x112 at 0x7FDB49DB5340>"
            ],
            "image/png": "[encoded data removed]"
          },
          "metadata": {}
        }
      ]
    },
    {
      "cell_type": "code",
      "source": [
        "m,mean=normalizeM(m)\n",
        "w,h=performNMF(m, 10, height)\n",
        "print(m)"
      ],
      "metadata": {
        "id": "dJML14S1cTs-"
      },
      "execution_count": null,
      "outputs": []
    },
    {
      "cell_type": "code",
      "source": [
        "import math\n",
        "cv2_imshow(m*mean)\n",
        "cv2_imshow(convertMatrixToImage(np.matmul(w,h),mean))"
      ],
      "metadata": {
        "colab": {
          "base_uri": "https://localhost:8080/",
          "height": 362
        },
        "id": "GoQP8s9ocwT2",
        "outputId": "d1b401c4-797c-4300-af63-1add0de3ffbc"
      },
      "execution_count": 65,
      "outputs": [
        {
          "output_type": "display_data",
          "data": {
            "text/plain": [
              "<PIL.Image.Image image mode=L size=92x112 at 0x7FDB49F295B0>"
            ],
            "image/png": "[encoded data removed]"
          },
          "metadata": {}
        },
        {
          "output_type": "stream",
          "name": "stdout",
          "text": [
            "[[41 42 44 ... 49 53 53]\n",
            " [42 40 42 ... 47 52 54]\n",
            " [41 42 42 ... 48 52 51]\n",
            " ...\n",
            " [32 32 28 ... 40 39 40]\n",
            " [36 35 28 ... 41 42 41]\n",
            " [36 35 29 ... 42 42 42]]\n"
          ]
        },
        {
          "output_type": "display_data",
          "data": {
            "text/plain": [
              "<PIL.Image.Image image mode=L size=92x112 at 0x7FDB71183A00>"
            ],
            "image/png": "[encoded data removed]"
          },
          "metadata": {}
        }
      ]
    },
    {
      "cell_type": "code",
      "source": [],
      "metadata": {
        "id": "HKD-9_Zyc3fu"
      },
      "execution_count": null,
      "outputs": []
    }
  ],
  "metadata": {
    "colab": {
      "provenance": [],
      "include_colab_link": true
    },
    "kernelspec": {
      "display_name": "Python 3",
      "name": "python3"
    },
    "language_info": {
      "name": "python"
    }
  },
  "nbformat": 4,
  "nbformat_minor": 0
}