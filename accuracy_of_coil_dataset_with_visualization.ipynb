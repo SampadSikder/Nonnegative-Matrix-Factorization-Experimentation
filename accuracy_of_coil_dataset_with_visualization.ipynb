{
  "cells": [
    {
      "cell_type": "markdown",
      "metadata": {
        "id": "view-in-github",
        "colab_type": "text"
      },
      "source": [
        "<a href=\"https://colab.research.google.com/github/SampadSikder/Nonnegative-Matrix-Factorization-Experimentation/blob/main/accuracy_of_coil_dataset_with_visualization.ipynb\" target=\"_parent\"><img src=\"https://colab.research.google.com/assets/colab-badge.svg\" alt=\"Open In Colab\"/></a>"
      ]
    },
    {
      "cell_type": "markdown",
      "metadata": {
        "id": "qq6pAYZbyoYk"
      },
      "source": [
        "Equations from https://proceedings.neurips.cc/paper/2000/file/f9d1152547c0bde01830b7e8bd60024c-Paper.pdf"
      ]
    },
    {
      "cell_type": "code",
      "execution_count": 1,
      "metadata": {
        "id": "RCWJMbmIhuQO"
      },
      "outputs": [],
      "source": [
        "import cv2\n",
        "import numpy as np\n",
        "from google.colab.patches import cv2_imshow\n",
        "from sklearn.cluster import KMeans\n",
        "import numpy\n",
        "import matplotlib.pyplot as mtp\n",
        "import os\n",
        "from sklearn.decomposition import NMF\n",
        "import collections"
      ]
    },
    {
      "cell_type": "code",
      "source": [
        "from google.colab import drive\n",
        "drive.mount('/content/drive/')"
      ],
      "metadata": {
        "colab": {
          "base_uri": "https://localhost:8080/"
        },
        "id": "shHh6erUue4N",
        "outputId": "ff49467a-9a64-4440-9c08-181da69df3f7"
      },
      "execution_count": 2,
      "outputs": [
        {
          "output_type": "stream",
          "name": "stdout",
          "text": [
            "Mounted at /content/drive/\n"
          ]
        }
      ]
    },
    {
      "cell_type": "markdown",
      "metadata": {
        "id": "7NW3z4T3mtZb"
      },
      "source": [
        "# Code Library"
      ]
    },
    {
      "cell_type": "code",
      "execution_count": 3,
      "metadata": {
        "id": "LfSd4MCkfyfR"
      },
      "outputs": [],
      "source": [
        "import time\n",
        "\n",
        "def extractFrameFromImage(filePath, imageLimit, frame_rate):\n",
        "  vidcap = cv2.VideoCapture(filePath)\n",
        "  success,image = vidcap.read()\n",
        "  count = 0\n",
        "  #define framerate\n",
        "  prev = 0\n",
        "  frame=0\n",
        "  while success:\n",
        "    time_elapsed = time.time() - prev\n",
        "    success,image = vidcap.read()  \n",
        "    if time_elapsed > 1./frame_rate:\n",
        "      prev = time.time()\n",
        "      cv2.imwrite(\"%d.jpg\" % count, image)     # save frame as JPEG file      \n",
        "      #print('Read a new frame: ', success)\n",
        "      count=count+1\n",
        "      frame += frame_rate # i.e. at 30 fps, this advances one second\n",
        "      vidcap.set(cv2.CAP_PROP_POS_FRAMES, frame)\n",
        "    if count>=imageLimit:\n",
        "      break\n",
        "  vidcap.release()\n",
        "  cv2.destroyAllWindows()\n",
        "\n",
        "  "
      ]
    },
    {
      "cell_type": "code",
      "execution_count": 4,
      "metadata": {
        "id": "-YsUqfmDoZo9"
      },
      "outputs": [],
      "source": [
        "def countWidthandHeight(imagePath, downscalingFactor):\n",
        "  width,height=0,0;\n",
        "  for img in os.listdir(imagePath):\n",
        "    extension = os.path.splitext(img)[1][1:]\n",
        "    if extension=='jpg' or extension=='png':\n",
        "      sampleImagePath=imagePath+'/'+img\n",
        "      img=cv2.imread(sampleImagePath)\n",
        "      image = cv2.cvtColor(img, cv2.COLOR_BGR2GRAY)\n",
        "      #resize\n",
        "\n",
        "      width = int(image.shape[1]/downscalingFactor)\n",
        "      height = int(image.shape[0]/downscalingFactor)\n",
        "\n",
        "      print(width, height)\n",
        "\n",
        "      break\n",
        "\n",
        "\n",
        "  count=0\n",
        "\n",
        "  for image_name in os.listdir(imagePath):\n",
        "    extension = os.path.splitext(image_name)[1][1:]\n",
        "    if extension=='jpg' or extension=='png':\n",
        "      count=count+1\n",
        "\n",
        "  return width, height, count"
      ]
    },
    {
      "cell_type": "code",
      "execution_count": 5,
      "metadata": {
        "id": "kvWqlcaPhO-n"
      },
      "outputs": [],
      "source": [
        "def convertAllImageToMatrix(obj, width, height, imageCount, imageRootDir): # imageCount = number of images  , imageRootDir = \"/content\"\n",
        "\n",
        "  y = width*height\n",
        "\n",
        "  print(imageCount) \n",
        "\n",
        "  m = np.zeros(shape=(imageCount, int(y)))\n",
        "  print(m.shape)\n",
        "  itr = 0\n",
        "\n",
        "  cntImage={}\n",
        "\n",
        "  for index, image in enumerate(obj):\n",
        "    cntImage[obj[index]]=0\n",
        "\n",
        "  name_list = []\n",
        "  for image_name in os.listdir(imageRootDir): \n",
        "    extension = os.path.splitext(image_name)[1][1:]\n",
        "    if extension=='jpg' or extension=='png':\n",
        "      image_label=image_name.split(\"__\")[0]\n",
        "      if image_label in obj and cntImage[image_label]<50:\n",
        "        cntImage[image_label]+=1\n",
        "        image_path=imageRootDir+'/'+image_name\n",
        "        image = cv2.imread(image_path)\n",
        "        image = cv2.cvtColor(image, cv2.COLOR_BGR2GRAY)\n",
        "        #resize\n",
        "        dim = (width, height)\n",
        "        print(width, height)\n",
        "        #resizing image\n",
        "        resized = cv2.resize(image, dim, interpolation = cv2.INTER_AREA)\n",
        "        \n",
        "        rows,cols=resized.shape#normal shape\n",
        "        img_size = rows*cols\n",
        "        img_1D_vector = resized.reshape(img_size)\n",
        "        \n",
        "        m[itr]=img_1D_vector\n",
        "        itr=itr+1\n",
        "        name_list.append(image_name)\n",
        "        print(itr)\n",
        "\n",
        "        if itr>=imageCount:\n",
        "          break\n",
        "      \n",
        "  return m, name_list, itr"
      ]
    },
    {
      "cell_type": "code",
      "execution_count": 6,
      "metadata": {
        "id": "z5xmIFcgnKIo"
      },
      "outputs": [],
      "source": [
        "def normalizeM(m):\n",
        "  sum=0\n",
        "  row, col=m.shape\n",
        "  for i in range(0,row):\n",
        "    for j in range(0,col):\n",
        "      sum+=m[i][j]\n",
        "  mean=sum/row*col \n",
        "\n",
        "  m=m/mean\n",
        "\n",
        "  return m, mean"
      ]
    },
    {
      "cell_type": "code",
      "execution_count": 7,
      "metadata": {
        "id": "T4u6-otOtAtf"
      },
      "outputs": [],
      "source": [
        "def updateW(x,w,h):\n",
        "  #XVT\n",
        "  ht=np.transpose(h)\n",
        "  numerator=np.matmul(x,ht)\n",
        "  #UVVT\n",
        "  den1=np.matmul(w,h)\n",
        "  denominator=np.matmul(den1,ht)\n",
        "\n",
        "  #return\n",
        "  print('U completed#########################################################################################')\n",
        "  secondPart=np.divide(numerator,denominator)\n",
        "  return np.multiply(w,secondPart)"
      ]
    },
    {
      "cell_type": "code",
      "execution_count": 8,
      "metadata": {
        "id": "QBCvtgSZs9LJ"
      },
      "outputs": [],
      "source": [
        "def updateH(x,w,h):\n",
        "  #UT*X\n",
        "  wt=np.transpose(w)\n",
        "  numerator=np.matmul(wt,x)\n",
        "  #UTUV\n",
        "  den1=np.matmul(w,h)\n",
        "  denominator=np.matmul(wt,den1)\n",
        "  \n",
        "  #update return\n",
        "  print('V completed#########################################################################################')\n",
        "  secondPart=np.divide(numerator,denominator)\n",
        "  return np.multiply(h,secondPart)"
      ]
    },
    {
      "cell_type": "code",
      "execution_count": 9,
      "metadata": {
        "id": "j8SQbrOqolsh"
      },
      "outputs": [],
      "source": [
        "def performNMF(x, featureNo, imageCount, EPSILON=1e-9):\n",
        "  w=np.random.normal(3,2.5,size=(imageCount,featureNo))\n",
        "  h=np.random.normal(3,2.5,size=(featureNo, x.shape[1]))\n",
        "\n",
        "  print(\"Shape of W: \"+str(w.shape))\n",
        "  print(\"Shape of H: \"+str(h.shape))\n",
        "\n",
        "  itr=0\n",
        "  cost=np.linalg.norm(x-np.matmul(w,h))\n",
        "  while cost>EPSILON:\n",
        "    if itr%2==0:\n",
        "      h=updateH(x,w,h)\n",
        "    else:\n",
        "      w=updateW(x,w,h)\n",
        "    wh=np.matmul(w,h)\n",
        "    print(w,h)\n",
        "    cost=np.linalg.norm(x-wh)\n",
        "    print(cost)\n",
        "    if itr>=100:\n",
        "      break\n",
        "    itr=itr+1\n",
        "  return w,h"
      ]
    },
    {
      "cell_type": "markdown",
      "metadata": {
        "id": "HWiW7Lz-kh3W"
      },
      "source": [
        "### Testing Code"
      ]
    },
    {
      "cell_type": "code",
      "execution_count": 10,
      "metadata": {
        "id": "0JD8EiFTK_7T"
      },
      "outputs": [],
      "source": [
        "from google.colab.patches import cv2_imshow"
      ]
    },
    {
      "cell_type": "code",
      "execution_count": 11,
      "metadata": {
        "id": "_g7dy1dcJxxk"
      },
      "outputs": [],
      "source": [
        "def getImageListFromM(x_new):\n",
        "  images = []\n",
        "  for row in x_new:\n",
        "    img_data = []\n",
        "    for i in range(height):\n",
        "      img_row = []\n",
        "      for j in range(width):\n",
        "        img_row.append(row[i*width + j])\n",
        "      img_data.append(img_row)\n",
        "    images.append(img_data)\n",
        "  return images"
      ]
    },
    {
      "cell_type": "code",
      "execution_count": 12,
      "metadata": {
        "id": "fU6gS7hykSIK"
      },
      "outputs": [],
      "source": [
        "def compareAndTest(m, w, h, mean):\n",
        "  x_new=np.matmul(w,h)\n",
        "  x_new=np.ceil(x_new*mean)\n",
        "  #x_new=np.transpose(x_new)\n",
        "\n",
        "  resulting_images = getImageListFromM(x_new)\n",
        "  original_images = getImageListFromM(np.ceil(m*mean))\n",
        "\n",
        "  for index in range(m.shape[0]):\n",
        "    print(\"-------------------------------Number of image: \"+str(index))\n",
        "\n",
        "    img=np.array(resulting_images[index])\n",
        "    cv2_imshow(img)\n",
        "    print(\"Image after NMF:\")\n",
        "\n",
        "    img=np.array(original_images[index])\n",
        "    cv2_imshow(img)\n",
        "    print(\"Image Before NMF:\")\n"
      ]
    },
    {
      "cell_type": "code",
      "execution_count": 13,
      "metadata": {
        "id": "-U4ASYQLobJL"
      },
      "outputs": [],
      "source": [
        "def variance(m): # m = matrix of all images\n",
        "  return np.var(m)"
      ]
    },
    {
      "cell_type": "code",
      "execution_count": 14,
      "metadata": {
        "id": "OMV6x2b9x4x5"
      },
      "outputs": [],
      "source": [
        "def __grouper(labels, original_images, resulting_images):\n",
        "    groups = []\n",
        "    for current_label in set(labels):\n",
        "      cluster = []\n",
        "      for index,label in enumerate(labels):\n",
        "        if label == current_label:\n",
        "          node = [label, original_images[index], resulting_images[index]]\n",
        "          cluster.append(node)\n",
        "      groups.append(cluster)\n",
        "    return groups"
      ]
    },
    {
      "cell_type": "code",
      "execution_count": 15,
      "metadata": {
        "id": "P-oI1SHjvKt0"
      },
      "outputs": [],
      "source": [
        "def compareAndTestWithKNN(m, w, h, mean, n_clusters):\n",
        "  x_new=np.matmul(w,h)\n",
        "  x_new=np.ceil(x_new*mean)\n",
        "  #x_new=np.transpose(x_new)\n",
        "\n",
        "  kmeans = KMeans(n_clusters, random_state=0)\n",
        "  kmeans.fit(w)\n",
        "\n",
        "  resulting_images = getImageListFromM(x_new)\n",
        "  original_images = getImageListFromM(np.ceil(m*mean))\n",
        "  \n",
        "  clusters = __grouper(kmeans.labels_, original_images, resulting_images)\n",
        "\n",
        "  for cluster in clusters:\n",
        "    print(\"----------------Labels------------------------\")\n",
        "    for index, node in enumerate(cluster):\n",
        "      print(\"-------------------------------Number of image: \"+str(index)+\"-----------Cluster=\"+str(node[0])+\".\")\n",
        "      img=np.array(node[1])\n",
        "      cv2_imshow(img)\n",
        "  \n",
        "  return kmeans"
      ]
    },
    {
      "cell_type": "code",
      "execution_count": 16,
      "metadata": {
        "id": "7vNMDxMg-5iu"
      },
      "outputs": [],
      "source": [
        "def scatterPlot(kmeans,F):\n",
        "  y_predict= kmeans.fit_predict(F)  \n",
        "  mtp.scatter(F[y_predict == 0, 0], F[y_predict == 0, 1], s = 10, c = 'blue', label = 'Cluster 1') #for first cluster  \n",
        "  mtp.scatter(F[y_predict == 1, 0], F[y_predict == 1, 1], s = 10, c = 'green', label = 'Cluster 2') #for second cluster  \n",
        "  mtp.scatter(F[y_predict== 2, 0], F[y_predict == 2, 1], s = 10, c = 'red', label = 'Cluster 3') #for third cluster  \n",
        "  mtp.scatter(F[y_predict == 3, 0], F[y_predict == 3, 1], s = 10, c = 'cyan', label = 'Cluster 4') #for fourth cluster  \n",
        "  mtp.scatter(kmeans.cluster_centers_[:, 0], kmeans.cluster_centers_[:, 1], s = 30, c = 'yellow', label = 'Centroid')   \n",
        "  mtp.title('Clusters')  \n",
        "\n",
        "  mtp.legend()  \n",
        "  mtp.show() "
      ]
    },
    {
      "cell_type": "markdown",
      "metadata": {
        "id": "HjGyvGNEmTAb"
      },
      "source": [
        "# Experimentation Area"
      ]
    },
    {
      "cell_type": "code",
      "source": [
        "def testSingleFrameMatrix(image, width, height, kmeans, nmf_model):\n",
        "  image = cv2.cvtColor(image, cv2.COLOR_BGR2GRAY)\n",
        "\n",
        "  dim = (width, height)\n",
        "  resized = cv2.resize(image, dim, interpolation = cv2.INTER_AREA)\n",
        "  \n",
        "  rows,cols=resized.shape\n",
        "  img_size = rows*cols\n",
        "  img_1D_vector = resized.reshape(img_size)\n",
        "  print(img_1D_vector.shape)\n",
        "  img_transformed = nmf_model.transform([img_1D_vector])\n",
        "  print(img_transformed.shape)\n",
        "  prediction = kmeans.predict(img_transformed)[0]\n",
        "\n",
        "  return prediction\n"
      ],
      "metadata": {
        "id": "eAISGVvn7qoD"
      },
      "execution_count": 89,
      "outputs": []
    },
    {
      "cell_type": "code",
      "source": [
        "def getLabels(imageNameList):\n",
        "  labels = {}\n",
        "  for name in imageNameList:\n",
        "    label = name.split(\"__\")[0]\n",
        "    labels[name] = label\n",
        "\n",
        "  return labels"
      ],
      "metadata": {
        "id": "CtaC3Cnitmjb"
      },
      "execution_count": 90,
      "outputs": []
    },
    {
      "cell_type": "code",
      "source": [
        "def setObjects(path,numberOfObjects):\n",
        "  obj=[]\n",
        "  cnt=0\n",
        "  for image_name in os.listdir(path): \n",
        "    extension = os.path.splitext(image_name)[1][1:]\n",
        "    if extension=='jpg' or extension=='png':\n",
        "      label = image_name.split(\"__\")[0]\n",
        "      obj.append(label)\n",
        "      cnt+=1\n",
        "    if cnt>=numberOfObjects:\n",
        "      break\n",
        "  \n",
        "  return obj\n"
      ],
      "metadata": {
        "id": "EXfLTgEk81zp"
      },
      "execution_count": 91,
      "outputs": []
    },
    {
      "cell_type": "code",
      "source": [
        "def assignLabel(imageNameList, kmeans):\n",
        "  labels = {}\n",
        "  for i in range(len(imageNameList)):\n",
        "    imageName, _m = imageNameList[i].split(\"__\")\n",
        "    labels.setdefault(imageName, []).append(kmeans.labels_[i])\n",
        "\n",
        "  \n",
        "  for key, value in labels.items():\n",
        "    count = collections.Counter(value)\n",
        "    labels[key] = count.most_common(1)[0][0]\n",
        "\n",
        "  return labels"
      ],
      "metadata": {
        "id": "vD4HZmWbJGzc"
      },
      "execution_count": 120,
      "outputs": []
    },
    {
      "cell_type": "code",
      "source": [
        "import matplotlib.pyplot as plt\n",
        "\n",
        "def visualize_basis_vectors(nmf_model, n_components, width, height):\n",
        "    fig, axs = plt.subplots(1, n_components, figsize=(15, 5))\n",
        "    \n",
        "    for i in range(n_components):\n",
        "        axs[i].imshow(nmf_model.components_[i].reshape(height, width), cmap='gray')\n",
        "        axs[i].axis('off')\n",
        "        axs[i].set_title('Basis Vector ' + str(i+1))\n",
        "        \n",
        "    plt.show()\n"
      ],
      "metadata": {
        "id": "Mvlo0qy2f8l3"
      },
      "execution_count": 138,
      "outputs": []
    },
    {
      "cell_type": "code",
      "source": [
        "def train(path,n_components, n_clusters): # It requires the images to be in /content\n",
        "  imageLimit = 2000\n",
        "  frame_rate=5\n",
        "  #extractFrameFromImage(path, imageLimit, frame_rate)\n",
        "  width, height, imageCount=countWidthandHeight(path, 7)\n",
        "  \n",
        "  obj= setObjects(path,n_clusters)\n",
        "\n",
        "\n",
        "  m, imageNameList, imageCount = convertAllImageToMatrix(obj, width, height, imageLimit, path)\n",
        "\n",
        "  print(m.shape)\n",
        "  labels=getLabels(imageNameList)\n",
        "  \n",
        "  m, mean = normalizeM(m)\n",
        "  #mean=1\n",
        "  #w,h=performNMF(m, n_components, len(imageNameList))\n",
        "  nmf_model = NMF(n_components,max_iter=100, init= 'nndsvd')\n",
        "  w = nmf_model.fit_transform(m)\n",
        "  h=nmf_model.components_\n",
        "  visualize_basis_vectors(nmf_model, n_components, width, height)\n",
        "  print(w.shape)\n",
        "  print(h.shape)\n",
        "  x_new=np.matmul(w,h)\n",
        "  x_new=np.ceil(x_new*mean)\n",
        "  x_new=np.transpose(x_new)\n",
        "  #print(\"Original Image Set Variance: \"+str(variance(np.ceil(np.transpose(m)*mean))))\n",
        "  #print(\"NMF Generated Image Set Variance: \"+str(variance(x_new)))\n",
        "  \n",
        "  kmeans = KMeans(n_clusters, random_state=2)\n",
        "  kmeans.fit(w)\n",
        "\n",
        "  print(kmeans.labels_)\n",
        "  labels=assignLabel(imageNameList,kmeans)\n",
        "\n",
        "  return width, height, m, w, h, labels, kmeans, imageNameList, nmf_model\n",
        "  "
      ],
      "metadata": {
        "id": "gfMaEFQv-VnZ"
      },
      "execution_count": 139,
      "outputs": []
    },
    {
      "cell_type": "code",
      "source": [
        "def test(testPath, width, height, labels, kmeans, nmf_model,imageNameList):\n",
        "   correct=0\n",
        "   failed=0\n",
        "   for image_name in os.listdir(testPath):\n",
        "    print(image_name) \n",
        "    extension = os.path.splitext(image_name)[1][1:]\n",
        "    check_label=image_name.split(\"__\")[0]\n",
        "    if extension=='jpg' or extension=='png':\n",
        "      if image_name not in imageNameList and check_label in labels.keys():\n",
        "        print(image_name)\n",
        "        image_path=testPath+'/'+image_name\n",
        "        image = cv2.imread(image_path) \n",
        "        test_label=testSingleFrameMatrix(image, width, height, kmeans, nmf_model)\n",
        "        actual_label=labels[check_label]\n",
        "        print(\"---------------------------\")\n",
        "        print(\"Label from kmeans prediction: \",test_label)\n",
        "        print(\"Actual label: \",actual_label)\n",
        "        \n",
        "        if test_label==actual_label:\n",
        "          correct+=1\n",
        "        else:\n",
        "          failed+=1\n",
        "\n",
        "        print(correct, failed)\n",
        "\n",
        "   return (correct/(correct+failed)*100)\n",
        "  "
      ],
      "metadata": {
        "id": "NyLzX4U22Hte"
      },
      "execution_count": 140,
      "outputs": []
    },
    {
      "cell_type": "code",
      "source": [
        "width, height, m,w,h,labels,kmeans,imageNameList, nmf_model=train('/content/coil-100/',49,100)"
      ],
      "metadata": {
        "id": "3xGmmTK5tv8g"
      },
      "execution_count": null,
      "outputs": []
    },
    {
      "cell_type": "code",
      "source": [
        "print(labels)"
      ],
      "metadata": {
        "colab": {
          "base_uri": "https://localhost:8080/"
        },
        "id": "5Etlh9nXGpo3",
        "outputId": "55e1ba9d-b218-4f14-8084-4fa82aa0be6f"
      },
      "execution_count": 142,
      "outputs": [
        {
          "output_type": "stream",
          "name": "stdout",
          "text": [
            "{'obj62': 27, 'obj32': 55, 'obj25': 8, 'obj66': 15, 'obj80': 74, 'obj6': 85, 'obj42': 13, 'obj7': 27, 'obj4': 77, 'obj30': 24, 'obj94': 94, 'obj87': 69, 'obj85': 73, 'obj93': 27, 'obj91': 10, 'obj33': 60, 'obj67': 39, 'obj23': 13, 'obj48': 19, 'obj55': 65, 'obj54': 62, 'obj10': 8, 'obj51': 64, 'obj98': 39, 'obj8': 30, 'obj35': 11, 'obj12': 48, 'obj46': 59, 'obj14': 25, 'obj28': 2, 'obj20': 72, 'obj83': 29, 'obj36': 34, 'obj2': 79, 'obj92': 6, 'obj79': 90, 'obj95': 26, 'obj34': 47, 'obj71': 56, 'obj40': 84, 'obj56': 4, 'obj50': 9, 'obj74': 46, 'obj18': 14, 'obj17': 22, 'obj70': 5, 'obj39': 23, 'obj45': 92, 'obj31': 38, 'obj29': 55, 'obj44': 96, 'obj5': 20, 'obj11': 77, 'obj64': 88, 'obj61': 6, 'obj16': 63, 'obj65': 40, 'obj53': 67, 'obj63': 2, 'obj52': 22, 'obj38': 13, 'obj58': 76, 'obj37': 53}\n"
          ]
        }
      ]
    },
    {
      "cell_type": "code",
      "source": [
        "\n",
        "print(kmeans.labels_)"
      ],
      "metadata": {
        "colab": {
          "base_uri": "https://localhost:8080/"
        },
        "id": "bvSkGQLJQbcD",
        "outputId": "61850b0a-4afa-48ed-b784-92fb4129c92a"
      },
      "execution_count": 143,
      "outputs": [
        {
          "output_type": "stream",
          "name": "stdout",
          "text": [
            "[27 17  8 ... 77 14 77]\n"
          ]
        }
      ]
    },
    {
      "cell_type": "code",
      "source": [
        "accuracy=test(\"/content/coil-100\", width, height, labels, kmeans, nmf_model, imageNameList)"
      ],
      "metadata": {
        "id": "Vrlsctrctx2Y"
      },
      "execution_count": null,
      "outputs": []
    },
    {
      "cell_type": "code",
      "source": [
        "\n",
        "print(accuracy)"
      ],
      "metadata": {
        "colab": {
          "base_uri": "https://localhost:8080/"
        },
        "id": "mXF4P8gBPB4_",
        "outputId": "46254a79-aeab-434f-b6b3-041e555a44b7"
      },
      "execution_count": 119,
      "outputs": [
        {
          "output_type": "stream",
          "name": "stdout",
          "text": [
            "21.17507886435331\n"
          ]
        }
      ]
    },
    {
      "cell_type": "code",
      "source": [],
      "metadata": {
        "id": "iiFlRHDVJS7d"
      },
      "execution_count": 110,
      "outputs": []
    },
    {
      "cell_type": "code",
      "source": [
        "\n",
        "!mv coil-100/* /contentb zx\n",
        "!ls /content"
      ],
      "metadata": {
        "id": "058KtZYWuznI",
        "colab": {
          "base_uri": "https://localhost:8080/"
        },
        "outputId": "c508d7e1-805d-4520-e5b2-e71a155cd470"
      },
      "execution_count": 111,
      "outputs": [
        {
          "output_type": "stream",
          "name": "stdout",
          "text": [
            "mv: target 'zx' is not a directory\n",
            "coil-100  drive  sample_data\n"
          ]
        }
      ]
    },
    {
      "cell_type": "code",
      "source": [
        "!ls /content/drive/MyDrive/Colab\\ Notebooks/NMF\\ datasets/COIL\\ 100/coil-100/coil-100/\n",
        "!cp /content/drive/MyDrive/Colab\\ Notebooks/NMF\\ datasets/COIL\\ 100/coil-100/coil-100/ . -r\n",
        "!ls coil-100"
      ],
      "metadata": {
        "id": "ClzHt02Ftgkh"
      },
      "execution_count": null,
      "outputs": []
    },
    {
      "cell_type": "code",
      "source": [],
      "metadata": {
        "id": "KNIoUYk132xF"
      },
      "execution_count": 112,
      "outputs": []
    }
  ],
  "metadata": {
    "colab": {
      "provenance": [],
      "include_colab_link": true
    },
    "kernelspec": {
      "display_name": "Python 3",
      "name": "python3"
    },
    "language_info": {
      "name": "python"
    }
  },
  "nbformat": 4,
  "nbformat_minor": 0
}